{
 "cells": [
  {
   "cell_type": "code",
   "execution_count": 109,
   "metadata": {},
   "outputs": [
    {
     "ename": "KeyboardInterrupt",
     "evalue": "",
     "output_type": "error",
     "traceback": [
      "\u001b[1;31m---------------------------------------------------------------------------\u001b[0m",
      "\u001b[1;31mKeyboardInterrupt\u001b[0m                         Traceback (most recent call last)",
      "\u001b[1;32m<ipython-input-109-72e6b3e82838>\u001b[0m in \u001b[0;36m<module>\u001b[1;34m()\u001b[0m\n\u001b[0;32m      4\u001b[0m \u001b[1;33m\u001b[0m\u001b[0m\n\u001b[0;32m      5\u001b[0m \u001b[1;32mfor\u001b[0m \u001b[0mitem\u001b[0m \u001b[1;32min\u001b[0m \u001b[0mitertools\u001b[0m\u001b[1;33m.\u001b[0m\u001b[0mcombinations_with_replacement\u001b[0m\u001b[1;33m(\u001b[0m\u001b[0mrng\u001b[0m\u001b[1;33m,\u001b[0m\u001b[1;36m9\u001b[0m\u001b[1;33m)\u001b[0m\u001b[1;33m:\u001b[0m\u001b[1;31m#creates all combinations\u001b[0m\u001b[1;33m\u001b[0m\u001b[0m\n\u001b[1;32m----> 6\u001b[1;33m     \u001b[1;32mif\u001b[0m \u001b[0mall\u001b[0m\u001b[1;33m(\u001b[0m\u001b[0mcount\u001b[0m \u001b[1;33m<=\u001b[0m \u001b[1;36m2\u001b[0m \u001b[1;32mfor\u001b[0m \u001b[0mcount\u001b[0m \u001b[1;32min\u001b[0m \u001b[0mCounter\u001b[0m\u001b[1;33m(\u001b[0m\u001b[0mitem\u001b[0m\u001b[1;33m)\u001b[0m\u001b[1;33m.\u001b[0m\u001b[0mvalues\u001b[0m\u001b[1;33m(\u001b[0m\u001b[1;33m)\u001b[0m\u001b[1;33m)\u001b[0m\u001b[1;33m==\u001b[0m \u001b[1;32mTrue\u001b[0m\u001b[1;33m:\u001b[0m\u001b[1;33m\u001b[0m\u001b[0m\n\u001b[0m\u001b[0;32m      7\u001b[0m         \u001b[1;32mfor\u001b[0m \u001b[0mitem2\u001b[0m \u001b[1;32min\u001b[0m \u001b[0mitertools\u001b[0m\u001b[1;33m.\u001b[0m\u001b[0mpermutations\u001b[0m\u001b[1;33m(\u001b[0m\u001b[0mitem\u001b[0m\u001b[1;33m)\u001b[0m\u001b[1;33m:\u001b[0m\u001b[1;31m#creates all permutations of combination\u001b[0m\u001b[1;33m\u001b[0m\u001b[0m\n\u001b[0;32m      8\u001b[0m             \u001b[0mnewList\u001b[0m \u001b[1;33m=\u001b[0m \u001b[0mlist\u001b[0m\u001b[1;33m(\u001b[0m\u001b[0mitem2\u001b[0m\u001b[1;33m)\u001b[0m \u001b[1;31m#converts to list because itertools.permutations creates tuples\u001b[0m\u001b[1;33m\u001b[0m\u001b[0m\n",
      "\u001b[1;32m~\\Anaconda3\\lib\\collections\\__init__.py\u001b[0m in \u001b[0;36m__init__\u001b[1;34m(*args, **kwds)\u001b[0m\n\u001b[0;32m    530\u001b[0m                             \"needs an argument\")\n\u001b[0;32m    531\u001b[0m         \u001b[0mself\u001b[0m\u001b[1;33m,\u001b[0m \u001b[1;33m*\u001b[0m\u001b[0margs\u001b[0m \u001b[1;33m=\u001b[0m \u001b[0margs\u001b[0m\u001b[1;33m\u001b[0m\u001b[0m\n\u001b[1;32m--> 532\u001b[1;33m         \u001b[1;32mif\u001b[0m \u001b[0mlen\u001b[0m\u001b[1;33m(\u001b[0m\u001b[0margs\u001b[0m\u001b[1;33m)\u001b[0m \u001b[1;33m>\u001b[0m \u001b[1;36m1\u001b[0m\u001b[1;33m:\u001b[0m\u001b[1;33m\u001b[0m\u001b[0m\n\u001b[0m\u001b[0;32m    533\u001b[0m             \u001b[1;32mraise\u001b[0m \u001b[0mTypeError\u001b[0m\u001b[1;33m(\u001b[0m\u001b[1;34m'expected at most 1 arguments, got %d'\u001b[0m \u001b[1;33m%\u001b[0m \u001b[0mlen\u001b[0m\u001b[1;33m(\u001b[0m\u001b[0margs\u001b[0m\u001b[1;33m)\u001b[0m\u001b[1;33m)\u001b[0m\u001b[1;33m\u001b[0m\u001b[0m\n\u001b[0;32m    534\u001b[0m         \u001b[0msuper\u001b[0m\u001b[1;33m(\u001b[0m\u001b[0mCounter\u001b[0m\u001b[1;33m,\u001b[0m \u001b[0mself\u001b[0m\u001b[1;33m)\u001b[0m\u001b[1;33m.\u001b[0m\u001b[0m__init__\u001b[0m\u001b[1;33m(\u001b[0m\u001b[1;33m)\u001b[0m\u001b[1;33m\u001b[0m\u001b[0m\n",
      "\u001b[1;31mKeyboardInterrupt\u001b[0m: "
     ]
    }
   ],
   "source": [
    "#Use this cell.  All others used for constructing this cell.\n",
    "import itertools\n",
    "start_time = time.time() #used for timing\n",
    "rng=range(1,500)\n",
    "\n",
    "for item in itertools.combinations_with_replacement(rng,9):#creates all combinations\n",
    "    if all(count <= 2 for count in Counter(item).values())== True:\n",
    "        for item2 in itertools.permutations(item):#creates all permutations of combination\n",
    "            newList = list(item2) #converts to list because itertools.permutations creates tuples\n",
    "        if newList[0]**2 + newList[1]**2 + newList[2]**2 == newList[0]**2 + newList[3]**2 + newList[6]**2: # checks to see if it solves the puzzle\n",
    "            a = newList[0]**2 + newList[1]**2 + newList[2]**2\n",
    "            b = newList[3]**2 + newList[4]**2 + newList[5]**2\n",
    "            c = newList[6]**2 + newList[7]**2 + newList[8]**2\n",
    "            d = newList[0]**2 + newList[3]**2 + newList[6]**2\n",
    "            e = newList[1]**2 + newList[4]**2 + newList[7]**2\n",
    "            f = newList[2]**2 + newList[5]**2 + newList[8]**2\n",
    "            g = newList[0]**2 + newList[4]**2 + newList[8]**2\n",
    "            h = newList[2]**2 + newList[4]**2 + newList[6]**2\n",
    "\n",
    "            if a==b and a == c:#another check to see if part of puzzle is solved\n",
    "                if a== d and a==e and a==f and a==g and a==h: #final solution check\n",
    "                    print('Solution found! ' + str(newList)) \n",
    "                    continue\n",
    "                    \n",
    "print('finished')\n",
    "print(\"--- %s seconds ---\" % (time.time() - start_time))"
   ]
  },
  {
   "cell_type": "code",
   "execution_count": 53,
   "metadata": {},
   "outputs": [
    {
     "ename": "RecursionError",
     "evalue": "maximum recursion depth exceeded in comparison",
     "output_type": "error",
     "traceback": [
      "\u001b[1;31m---------------------------------------------------------------------------\u001b[0m",
      "\u001b[1;31mRecursionError\u001b[0m                            Traceback (most recent call last)",
      "\u001b[1;32m<ipython-input-53-550bcbcbee31>\u001b[0m in \u001b[0;36m<module>\u001b[1;34m()\u001b[0m\n\u001b[0;32m     39\u001b[0m     \u001b[0mincArray\u001b[0m\u001b[1;33m(\u001b[0m\u001b[1;33m)\u001b[0m \u001b[1;31m#if this is not a solution then it moves on to the next array.\u001b[0m\u001b[1;33m\u001b[0m\u001b[0m\n\u001b[0;32m     40\u001b[0m \u001b[1;33m\u001b[0m\u001b[0m\n\u001b[1;32m---> 41\u001b[1;33m \u001b[0miterate\u001b[0m\u001b[1;33m(\u001b[0m\u001b[1;33m)\u001b[0m\u001b[1;33m\u001b[0m\u001b[0m\n\u001b[0m\u001b[0;32m     42\u001b[0m \u001b[1;33m\u001b[0m\u001b[0m\n\u001b[0;32m     43\u001b[0m \u001b[1;31m#print(\"--- %s seconds ---\" % (time.time() - start_time))\u001b[0m\u001b[1;33m\u001b[0m\u001b[1;33m\u001b[0m\u001b[0m\n",
      "\u001b[1;32m<ipython-input-53-550bcbcbee31>\u001b[0m in \u001b[0;36miterate\u001b[1;34m()\u001b[0m\n\u001b[0;32m     37\u001b[0m                     \u001b[0mprint\u001b[0m\u001b[1;33m(\u001b[0m\u001b[1;34m'Solution found! '\u001b[0m \u001b[1;33m+\u001b[0m \u001b[0mstr\u001b[0m\u001b[1;33m(\u001b[0m\u001b[0mnewList\u001b[0m\u001b[1;33m)\u001b[0m\u001b[1;33m)\u001b[0m\u001b[1;33m\u001b[0m\u001b[0m\n\u001b[0;32m     38\u001b[0m                     \u001b[0mincArray\u001b[0m\u001b[1;33m(\u001b[0m\u001b[1;33m)\u001b[0m\u001b[1;33m\u001b[0m\u001b[0m\n\u001b[1;32m---> 39\u001b[1;33m     \u001b[0mincArray\u001b[0m\u001b[1;33m(\u001b[0m\u001b[1;33m)\u001b[0m \u001b[1;31m#if this is not a solution then it moves on to the next array.\u001b[0m\u001b[1;33m\u001b[0m\u001b[0m\n\u001b[0m\u001b[0;32m     40\u001b[0m \u001b[1;33m\u001b[0m\u001b[0m\n\u001b[0;32m     41\u001b[0m \u001b[0miterate\u001b[0m\u001b[1;33m(\u001b[0m\u001b[1;33m)\u001b[0m\u001b[1;33m\u001b[0m\u001b[0m\n",
      "\u001b[1;32m<ipython-input-53-550bcbcbee31>\u001b[0m in \u001b[0;36mincArray\u001b[1;34m()\u001b[0m\n\u001b[0;32m     14\u001b[0m         \u001b[0mmyArray\u001b[0m\u001b[1;33m[\u001b[0m\u001b[0mindex_min\u001b[0m\u001b[1;33m]\u001b[0m \u001b[1;33m+=\u001b[0m\u001b[1;36m1\u001b[0m\u001b[1;33m\u001b[0m\u001b[0m\n\u001b[0;32m     15\u001b[0m         \u001b[1;32mif\u001b[0m \u001b[0many\u001b[0m\u001b[1;33m(\u001b[0m\u001b[0mcount\u001b[0m \u001b[1;33m>\u001b[0m \u001b[1;36m2\u001b[0m \u001b[1;32mfor\u001b[0m \u001b[0mcount\u001b[0m \u001b[1;32min\u001b[0m \u001b[0mCounter\u001b[0m\u001b[1;33m(\u001b[0m\u001b[0mmyArray\u001b[0m\u001b[1;33m)\u001b[0m\u001b[1;33m.\u001b[0m\u001b[0mvalues\u001b[0m\u001b[1;33m(\u001b[0m\u001b[1;33m)\u001b[0m\u001b[1;33m)\u001b[0m \u001b[1;33m==\u001b[0m \u001b[1;32mTrue\u001b[0m\u001b[1;33m:\u001b[0m\u001b[1;33m\u001b[0m\u001b[0m\n\u001b[1;32m---> 16\u001b[1;33m             \u001b[0mincArray\u001b[0m\u001b[1;33m(\u001b[0m\u001b[1;33m)\u001b[0m\u001b[1;33m\u001b[0m\u001b[0m\n\u001b[0m\u001b[0;32m     17\u001b[0m         \u001b[1;32melse\u001b[0m\u001b[1;33m:\u001b[0m\u001b[1;33m\u001b[0m\u001b[0m\n\u001b[0;32m     18\u001b[0m             \u001b[0miterate\u001b[0m\u001b[1;33m(\u001b[0m\u001b[1;33m)\u001b[0m\u001b[1;33m\u001b[0m\u001b[0m\n",
      "... last 1 frames repeated, from the frame below ...\n",
      "\u001b[1;32m<ipython-input-53-550bcbcbee31>\u001b[0m in \u001b[0;36mincArray\u001b[1;34m()\u001b[0m\n\u001b[0;32m     14\u001b[0m         \u001b[0mmyArray\u001b[0m\u001b[1;33m[\u001b[0m\u001b[0mindex_min\u001b[0m\u001b[1;33m]\u001b[0m \u001b[1;33m+=\u001b[0m\u001b[1;36m1\u001b[0m\u001b[1;33m\u001b[0m\u001b[0m\n\u001b[0;32m     15\u001b[0m         \u001b[1;32mif\u001b[0m \u001b[0many\u001b[0m\u001b[1;33m(\u001b[0m\u001b[0mcount\u001b[0m \u001b[1;33m>\u001b[0m \u001b[1;36m2\u001b[0m \u001b[1;32mfor\u001b[0m \u001b[0mcount\u001b[0m \u001b[1;32min\u001b[0m \u001b[0mCounter\u001b[0m\u001b[1;33m(\u001b[0m\u001b[0mmyArray\u001b[0m\u001b[1;33m)\u001b[0m\u001b[1;33m.\u001b[0m\u001b[0mvalues\u001b[0m\u001b[1;33m(\u001b[0m\u001b[1;33m)\u001b[0m\u001b[1;33m)\u001b[0m \u001b[1;33m==\u001b[0m \u001b[1;32mTrue\u001b[0m\u001b[1;33m:\u001b[0m\u001b[1;33m\u001b[0m\u001b[0m\n\u001b[1;32m---> 16\u001b[1;33m             \u001b[0mincArray\u001b[0m\u001b[1;33m(\u001b[0m\u001b[1;33m)\u001b[0m\u001b[1;33m\u001b[0m\u001b[0m\n\u001b[0m\u001b[0;32m     17\u001b[0m         \u001b[1;32melse\u001b[0m\u001b[1;33m:\u001b[0m\u001b[1;33m\u001b[0m\u001b[0m\n\u001b[0;32m     18\u001b[0m             \u001b[0miterate\u001b[0m\u001b[1;33m(\u001b[0m\u001b[1;33m)\u001b[0m\u001b[1;33m\u001b[0m\u001b[0m\n",
      "\u001b[1;31mRecursionError\u001b[0m: maximum recursion depth exceeded in comparison"
     ]
    }
   ],
   "source": [
    "\n",
    "import itertools \n",
    "import collections\n",
    "import numpy as np\n",
    "import time\n",
    "#test of file changes\n",
    "\n",
    "#start_time = time.time() #used for timing\n",
    "myArray=[1,1,1,1,1,1,1,1,2] # starting array values\n",
    "endpoint=50 #maximum value for any array item\n",
    "\n",
    "def incArray():#Increases minimum array value by 1 \n",
    "    global myArray\n",
    "    index_min=np.argmin(myArray)\n",
    "    if index_min< endpoint:\n",
    "        myArray[index_min] +=1\n",
    "        if any(count > 2 for count in Counter(myArray).values()) == True:\n",
    "            incArray()\n",
    "        else:\n",
    "            iterate()\n",
    "    else:\n",
    "        print('Endpoint Found')\n",
    "    \n",
    "def iterate():#creates all permutations of the array and checks if it solves the puzzle\n",
    "    for item in itertools.permutations(myArray):\n",
    "        newList = list(item) #converts to list because itertools.permutations creates tuples\n",
    "        if newList[0]**2 + newList[1]**2 + newList[2]**2 == newList[0]**2 + newList[3]**2 + newList[6]**2: # checks to see if it solves the puzzle\n",
    "            a = newList[0]**2 + newList[1]**2 + newList[2]**2\n",
    "            b = newList[3]**2 + newList[4]**2 + newList[5]**2\n",
    "            c = newList[6]**2 + newList[7]**2 + newList[8]**2\n",
    "            d = newList[0]**2 + newList[3]**2 + newList[6]**2\n",
    "            e = newList[1]**2 + newList[4]**2 + newList[7]**2\n",
    "            f = newList[2]**2 + newList[5]**2 + newList[8]**2\n",
    "            g = newList[0]**2 + newList[4]**2 + newList[8]**2\n",
    "            h = newList[2]**2 + newList[4]**2 + newList[6]**2\n",
    "\n",
    "            if a==b and a == c:\n",
    "                if a== d and a==e and a==f and a==g and a==h:\n",
    "                    print('Solution found! ' + str(newList)) \n",
    "                    incArray()\n",
    "    incArray() #if this is not a solution then it moves on to the next array.\n",
    "            \n",
    "iterate()\n",
    "\n",
    "#print(\"--- %s seconds ---\" % (time.time() - start_time))"
   ]
  },
  {
   "cell_type": "code",
   "execution_count": 60,
   "metadata": {},
   "outputs": [
    {
     "data": {
      "text/plain": [
       "1"
      ]
     },
     "execution_count": 60,
     "metadata": {},
     "output_type": "execute_result"
    }
   ],
   "source": [
    "arr=[1,1,1]\n",
    "max(arr,key=arr.count)\n"
   ]
  },
  {
   "cell_type": "code",
   "execution_count": 81,
   "metadata": {},
   "outputs": [
    {
     "name": "stdout",
     "output_type": "stream",
     "text": [
      "[1, 1, 2, 2, 3, 3, 4, 4, 6]\n",
      "[1, 1, 2, 2, 3, 3, 4, 4, 7]\n",
      "[1, 1, 2, 2, 3, 3, 4, 4, 8]\n",
      "[1, 1, 2, 2, 3, 3, 4, 4, 9]\n",
      "[1, 1, 2, 2, 3, 3, 4, 4, 10]\n",
      "[1, 1, 2, 2, 3, 3, 4, 5, 10]\n",
      "[1, 1, 2, 2, 3, 3, 4, 6, 10]\n",
      "[1, 1, 2, 2, 3, 3, 4, 7, 10]\n",
      "[1, 1, 2, 2, 3, 3, 4, 8, 10]\n",
      "[1, 1, 2, 2, 3, 3, 4, 9, 10]\n",
      "[1, 1, 2, 2, 3, 3, 4, 10, 10]\n",
      "[1, 1, 2, 2, 3, 3, 5, 10, 10]\n",
      "[1, 1, 2, 2, 3, 3, 6, 10, 10]\n",
      "[1, 1, 2, 2, 3, 3, 7, 10, 10]\n",
      "[1, 1, 2, 2, 3, 3, 8, 10, 10]\n",
      "[1, 1, 2, 2, 3, 3, 9, 10, 10]\n",
      "[1, 1, 2, 2, 3, 3, 10, 10, 10]\n",
      "[1, 1, 2, 2, 3, 4, 10, 10, 10]\n",
      "[1, 1, 2, 2, 3, 5, 10, 10, 10]\n",
      "[1, 1, 2, 2, 3, 6, 10, 10, 10]\n",
      "[1, 1, 2, 2, 3, 7, 10, 10, 10]\n",
      "[1, 1, 2, 2, 3, 8, 10, 10, 10]\n",
      "[1, 1, 2, 2, 3, 9, 10, 10, 10]\n",
      "[1, 1, 2, 2, 3, 10, 10, 10, 10]\n",
      "[1, 1, 2, 2, 4, 10, 10, 10, 10]\n",
      "[1, 1, 2, 2, 5, 10, 10, 10, 10]\n",
      "[1, 1, 2, 2, 6, 10, 10, 10, 10]\n",
      "[1, 1, 2, 2, 7, 10, 10, 10, 10]\n",
      "[1, 1, 2, 2, 8, 10, 10, 10, 10]\n",
      "[1, 1, 2, 2, 9, 10, 10, 10, 10]\n",
      "[1, 1, 2, 2, 10, 10, 10, 10, 10]\n",
      "[1, 1, 2, 3, 10, 10, 10, 10, 10]\n",
      "[1, 1, 2, 4, 10, 10, 10, 10, 10]\n",
      "[1, 1, 2, 5, 10, 10, 10, 10, 10]\n",
      "[1, 1, 2, 6, 10, 10, 10, 10, 10]\n",
      "[1, 1, 2, 7, 10, 10, 10, 10, 10]\n",
      "[1, 1, 2, 8, 10, 10, 10, 10, 10]\n",
      "[1, 1, 2, 9, 10, 10, 10, 10, 10]\n",
      "[1, 1, 2, 10, 10, 10, 10, 10, 10]\n",
      "[1, 1, 3, 10, 10, 10, 10, 10, 10]\n",
      "[1, 1, 4, 10, 10, 10, 10, 10, 10]\n",
      "[1, 1, 5, 10, 10, 10, 10, 10, 10]\n",
      "[1, 1, 6, 10, 10, 10, 10, 10, 10]\n",
      "[1, 1, 7, 10, 10, 10, 10, 10, 10]\n",
      "[1, 1, 8, 10, 10, 10, 10, 10, 10]\n",
      "[1, 1, 9, 10, 10, 10, 10, 10, 10]\n",
      "[1, 1, 10, 10, 10, 10, 10, 10, 10]\n",
      "[1, 2, 10, 10, 10, 10, 10, 10, 10]\n",
      "[1, 3, 10, 10, 10, 10, 10, 10, 10]\n",
      "[1, 4, 10, 10, 10, 10, 10, 10, 10]\n",
      "[1, 5, 10, 10, 10, 10, 10, 10, 10]\n",
      "[1, 6, 10, 10, 10, 10, 10, 10, 10]\n",
      "[1, 7, 10, 10, 10, 10, 10, 10, 10]\n",
      "[1, 8, 10, 10, 10, 10, 10, 10, 10]\n",
      "[1, 9, 10, 10, 10, 10, 10, 10, 10]\n",
      "[1, 10, 10, 10, 10, 10, 10, 10, 10]\n",
      "end of sequene\n",
      "end of sequene\n",
      "end of sequene\n",
      "end of sequene\n",
      "end of sequene\n",
      "end of sequene\n",
      "end of sequene\n",
      "end of sequene\n",
      "end of sequene\n",
      "end of sequene\n",
      "end of sequene\n",
      "end of sequene\n",
      "end of sequene\n",
      "end of sequene\n",
      "end of sequene\n",
      "end of sequene\n",
      "end of sequene\n",
      "end of sequene\n",
      "end of sequene\n",
      "end of sequene\n",
      "end of sequene\n",
      "end of sequene\n",
      "end of sequene\n",
      "end of sequene\n",
      "end of sequene\n",
      "end of sequene\n",
      "end of sequene\n",
      "end of sequene\n",
      "end of sequene\n",
      "end of sequene\n",
      "end of sequene\n",
      "end of sequene\n",
      "end of sequene\n",
      "end of sequene\n",
      "end of sequene\n"
     ]
    }
   ],
   "source": [
    "import itertools\n",
    "stuff=range(1,9)\n",
    "\n",
    "for item in itertools.combinations_with_replacement(stuff,9):\n",
    "    if all(count <= 2 for count in Counter(item).values())== True:\n",
    "        print(str(all(count <= 2 for count in Counter(item).values()))+' ' + str(item))\n",
    "    \n",
    "#     if any(count > 2 for count in Counter(stuff).values()) == True:\n",
    "#         continue \n",
    "#     else:\n",
    "#         print(list(item))\n",
    "print('finished')"
   ]
  },
  {
   "cell_type": "code",
   "execution_count": 28,
   "metadata": {},
   "outputs": [
    {
     "data": {
      "text/plain": [
       "4"
      ]
     },
     "execution_count": 28,
     "metadata": {},
     "output_type": "execute_result"
    }
   ],
   "source": [
    "lst = [1, 2, 45, 55, 5, 4, 4, 4, 4, 4, 4, 5456, 56, 6, 7, 67]\n",
    "max(lst,key=lst.count)"
   ]
  },
  {
   "cell_type": "code",
   "execution_count": 47,
   "metadata": {},
   "outputs": [
    {
     "name": "stdout",
     "output_type": "stream",
     "text": [
      "False\n"
     ]
    }
   ],
   "source": [
    "from collections import Counter\n",
    "arr=[1,2,3,4,5,5]\n",
    "print(any(count > 2 for count in Counter(arr).values()))"
   ]
  },
  {
   "cell_type": "code",
   "execution_count": null,
   "metadata": {},
   "outputs": [],
   "source": []
  },
  {
   "cell_type": "code",
   "execution_count": null,
   "metadata": {},
   "outputs": [],
   "source": []
  }
 ],
 "metadata": {
  "kernelspec": {
   "display_name": "Python 3",
   "language": "python",
   "name": "python3"
  },
  "language_info": {
   "codemirror_mode": {
    "name": "ipython",
    "version": 3
   },
   "file_extension": ".py",
   "mimetype": "text/x-python",
   "name": "python",
   "nbconvert_exporter": "python",
   "pygments_lexer": "ipython3",
   "version": "3.6.5"
  }
 },
 "nbformat": 4,
 "nbformat_minor": 2
}
